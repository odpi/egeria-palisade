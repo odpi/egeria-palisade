{
 "cells": [
  {
   "cell_type": "markdown",
   "metadata": {},
   "source": [
    "![Egeria Logo](https://raw.githubusercontent.com/odpi/egeria/master/assets/img/ODPi_Egeria_Logo_color.png)\n",
    "\n",
    "### ODPi Egeria and Palisade Hands-On Lab\n",
    "# Welcome to the Restricting Data Access Lab"
   ]
  },
  {
   "cell_type": "markdown",
   "metadata": {},
   "source": [
    "## Introduction\n",
    "\n",
    "[ODPi Egeria](https://egeria.odpi.org/) is an open source project that provides open standards and implementation libraries to connect tools, catalogs and platforms together so they can share information about data and technology (called metadata).\n",
    "\n",
    "[Palisade](https://github.com/gchq/Palisade) is a scalable data policy management and enforcement capability.\n",
    "\n",
    "In this hands-on lab you will get a chance to explore different methods for protecting a data file that is cataloged in Egeria metadata. \n",
    "\n",
    "This lab includes three methods to illustrate different approaches to controlling access to data:\n",
    "\n",
    "- **File Based Access Control** using a file's Access Control List (ACL)\n",
    "- **Data Content Based Access Control** using metadata from Egeria to determine the data's sensitivity\n",
    "- **Context Based Access Control** using Palisade to manage enforcement by taking the context of the query into consisderation.\n",
    "\n",
    "The three methods highlight different ways to protect data.\n",
    "\n",
    "## The scenario\n",
    "\n",
    "<img src=\"https://raw.githubusercontent.com/odpi/data-governance/master/docs/coco-pharmaceuticals/personas/callie-quartile.png\" style=\"float:left\">\n",
    "Callie Quartile is a data scientist at Coco Pharmaceuticals. She is responsible for analyzing data for Human Resources (HR) and the Clinical Trials team. "
   ]
  },
  {
   "cell_type": "markdown",
   "metadata": {},
   "source": [
    "Callie has been asked to provide analytics for two different HR projects:\n",
    "\n",
    "  * perform a staff salary analysis that identifies any pay biases in the salaries and bonuses of Coco Pharmaceutical employees.\n",
    "  * identify staff eligible for a 5 year anniversary health screening project.\n",
    "\n",
    "The data that Callie will access contains both sensitive and personal data which she is not normally authorized to view, such as Salary, Date of Birth and so on.\n",
    "\n",
    "In this notebook you will learn how to redact data elements, so Callie can only view the data that is essential to each project in a way which does not provide her with an inappropriate level of data access.\n",
    "\n",
    "For example, in the staff salary review project, it is inappropriate for Callie to view her colleagues' salary details along with their names, employee number or other items which identify them.  If the fields that identify individuals are redacted then Callie may see the salary data with no knowledge of who the data pertains to.\n",
    "\n",
    "Similarly, when identifying the list of staff eligible for the health screening program, she needs to see identifying information such as names and email addresses along with their start date.  However, she does not need to see salary information."
   ]
  },
  {
   "cell_type": "markdown",
   "metadata": {},
   "source": [
    "## Inside the Employee file\n",
    "\n",
    "Figure 1 shows the structure of an Avro file that contains Coco Pharmacceuticals employee data.  It include a rich mixture of public, personal and financial information.  No individual would ever need access to all values in all records.  Instead, the access control processes need to filter out the data that is appropiate for an individual to see.  This filtering may remove whole records, specific values, or reduce the precision of a specific value.\n",
    "\n",
    "![Figure 1](images/avro-employee-uml.png)\n",
    "> **Figure 1:** Structure of the Employee data\n",
    "\n",
    "Callie's two projects (Salary Review and Health Screening) use overlapping sets of fields from the same data file.  The specific fields she needs to access for each project are shown in the following sections. "
   ]
  },
  {
   "cell_type": "markdown",
   "metadata": {},
   "source": [
    "**Salary Bias Review Project Data**\n",
    "\n",
    "The data access for this project consists of employee records with a number of fields. In order to perform her analysis, Callie needs to be able to access Date of Birth, Hire Date, Salary, Bonus, Department, Manager, Sex,  Nationality and Work Location. During this project Callie must NOT be allowed to see any fields that would enable her to identify the employee so we would need to redact employee ID, Name, Address, etc.  With these fields redacted Callie can perform her salary analysis.\n",
    "\n",
    "Figure 2 below shows the fields she needs.\n",
    "Light blue colouring means the field is needed (see `dateOfBirth` in the `Salary Bias Review Project Data`), fields in white are not needed (see `name` in the `Salary Bias Review Project Data`). The dark blue highlighing the table means that all fields of the instances that are linked to can be viewed (see `Address` in the `Salary Bias Review Project Data`.\n",
    "\n",
    "![Figure 2](images/avro-employee-uml-salary-bias-context.png)\n",
    "> **Figure 2:** Employee data needed for the Salary Bias Review\n"
   ]
  },
  {
   "cell_type": "markdown",
   "metadata": {},
   "source": [
    "**Health Screening Project Data**\n",
    "\n",
    "In the Health Screening project Callie will need to see fields that identify each employee, including employee ID, Name, Address, Hiring Date, Work Location but she should NOT be allowed to see any fields containing financial information, such as Salary, Bonus or Bank Details. \n",
    "\n",
    "This is illustrated in Figure 3.\n",
    "\n",
    "![Figure 3](images/avro-employee-uml-health-screening-context.png)\n",
    "> **Figure 3:** Employee data needed for the Health Screening Project\n",
    "\n",
    "Aside from the two projects above, there are two additional \"purposes\" that Callie may have for querying employee data.\n",
    "\n",
    "**Default Use**\n",
    "\n",
    "The default use of the employee file is as a company directory.  In this context,\n",
    "Callie should be able to see employee's userId, name, department, manager, work location and the work contact numbers (but not personal or emergency contact numbers).  This is shown in Figure 4.\n",
    "\n",
    "![Figure 4](images/avro-employee-uml-default-context.png)\n",
    "> **Figure 4:** Default use of Employee data used as a company directory\n",
    "\n",
    "**Update My Profile Use**\n",
    "\n",
    "The final purpose is for when Callie needs to **Update** her own employee record - in this case Callie should be able to see all fields and update selected fields that relate to her personally.\n",
    "\n",
    "![Figure 5](images/avro-employee-uml-update-context.png)\n",
    "> **Figure 5:** Employee updating their own record\n"
   ]
  },
  {
   "cell_type": "markdown",
   "metadata": {},
   "source": [
    "# Setting up\n",
    "\n",
    "Coco Pharmaceuticals make widespread use of ODPi Egeria for tracking and managing their data and related assets.\n",
    "Figure 2 below shows the metadata servers and the platforms that are hosting them.\n",
    "\n",
    "![Figure 2](https://raw.githubusercontent.com/odpi/egeria/master/open-metadata-resources/open-metadata-labs/images/coco-pharmaceuticals-systems-omag-server-platforms.png)\n",
    "> **Figure 2:** Coco Pharmaceuticals' OMAG Server Platforms"
   ]
  },
  {
   "cell_type": "code",
   "execution_count": 5,
   "metadata": {},
   "outputs": [],
   "source": [
    "import os\n",
    "\n",
    "corePlatformURL     = os.environ.get('corePlatformURL','http://localhost:18080') \n",
    "dataLakePlatformURL = os.environ.get('dataLakePlatformURL','http://localhost:18081') \n",
    "devPlatformURL      = os.environ.get('devPlatformURL','http://localhost:18082')"
   ]
  },
  {
   "cell_type": "markdown",
   "metadata": {},
   "source": [
    "Callie is using the research team's metadata server called `cocoMDS3`. This server is hosted on the Core OMAG Server Platform.  Her userId is `calliequartile`."
   ]
  },
  {
   "cell_type": "code",
   "execution_count": 6,
   "metadata": {},
   "outputs": [],
   "source": [
    "calliesUserId = \"calliequartile\"\n",
    "calliesServer = \"cocoMDS3\"\n",
    "calliesServerPlatformURL = corePlatformURL"
   ]
  },
  {
   "cell_type": "markdown",
   "metadata": {},
   "source": [
    "However, before Callie can begin to access the employee file, it needs to be cataloged by the data lake operations team, Peter Profile and Erin Overview.  Peter uses `cocoMDS1` and Erin uses `cocoMDS2`."
   ]
  },
  {
   "cell_type": "code",
   "execution_count": 7,
   "metadata": {},
   "outputs": [],
   "source": [
    "petersUserId = \"peterprofile\"\n",
    "petersServer = \"cocoMDS1\"\n",
    "petersServerPlatformURL = dataLakePlatformURL\n",
    "\n",
    "erinsUserId = \"erinoverview\"\n",
    "erinsServer = \"cocoMDS2\"\n",
    "erinsServerPlatformURL = corePlatformURL"
   ]
  },
  {
   "cell_type": "markdown",
   "metadata": {},
   "source": [
    "The following request checks that their servers are running.  "
   ]
  },
  {
   "cell_type": "code",
   "execution_count": 9,
   "metadata": {},
   "outputs": [
    {
     "name": "stdout",
     "output_type": "stream",
     "text": [
      "Checking server cocoMDS3 ...\n",
      "Server cocoMDS3 is active - ready to begin\n",
      "Checking server cocoMDS1 ...\n",
      "Server cocoMDS1 is active - ready to begin\n",
      "Checking server cocoMDS2 ...\n",
      "Server cocoMDS2 is active - ready to begin\n"
     ]
    }
   ],
   "source": [
    "import requests\n",
    "import pprint\n",
    "import json\n",
    "\n",
    "adminUserId = \"garygeeke\"\n",
    "\n",
    "def checkServer(serverName, platformURL):\n",
    "    print(\"Checking server\", serverName, \"...\")\n",
    "    url = platformURL + \"/open-metadata/platform-services/users/\" + adminUserId + \"/server-platform/servers/\" + serverName + \"/status\"\n",
    "    response = requests.get(url)\n",
    "    serverStatus = response.json().get('active')\n",
    "    if serverStatus == True:\n",
    "        print(\"Server \" + serverName + \" is active - ready to begin\")\n",
    "    else:\n",
    "        print(\"Server \" + serverName + \" is down - start it before proceeding\")\n",
    "\n",
    "\n",
    "checkServer(calliesServer, calliesServerPlatformURL)\n",
    "checkServer(petersServer, petersServerPlatformURL)\n",
    "checkServer(erinsServer, erinsServerPlatformURL)\n"
   ]
  },
  {
   "cell_type": "markdown",
   "metadata": {},
   "source": [
    "----\n",
    "The next set of code sets up the asset - it is subject to change."
   ]
  },
  {
   "cell_type": "code",
   "execution_count": null,
   "metadata": {
    "collapsed": true,
    "jupyter": {
     "outputs_hidden": true
    }
   },
   "outputs": [],
   "source": [
    "assetOwnerURL = petersServerPlatformURL + '/servers/' + petersServer + '/open-metadata/access-services/asset-owner/users/' + petersUserId \n",
    "createAssetURL = assetOwnerURL + '/assets/data-files/avro'\n",
    "\n",
    "jsonHeader = {'content-type':'application/json'}\n",
    "body = {\n",
    "\t\"class\" : \"NewFileAssetRequestBody\",\n",
    "\t\"displayName\" : \"Coco Pharmaceuticals Employee Records\",\n",
    "\t\"description\" : \"Detailed Employee Records.\",\n",
    "\t\"fullPath\" : \"file://secured/hr/Employees.avro\"\n",
    "}\n",
    "\n",
    "fileSystemGUID = \"<Unknown>\"\n",
    "folder1GUID    = \"<Unknown>\"\n",
    "folder2GUID    = \"<Unknown>\"\n",
    "fileGUID       = \"<Unknown>\"\n",
    "\n",
    "response=requests.post(createAssetURL, json=body, headers=jsonHeader)\n",
    "if response.status_code == 200:\n",
    "    guids = response.json().get('guids')\n",
    "    if guids == None:\n",
    "        print (\"No assets returned\")\n",
    "        prettyResponse = json.dumps(response.json(), indent=4)\n",
    "        print (\"Response: \")\n",
    "        print (prettyResponse)\n",
    "        print (\" \")\n",
    "    else:\n",
    "        if len(guids) == 4:\n",
    "            fileSystemGUID = guids[0]\n",
    "            folder1GUID    = guids[1]\n",
    "            folder2GUID    = guids[2]\n",
    "            fileGUID       = guids[3]\n",
    "\n",
    "print (\"File system GUID is: \" + fileSystemGUID)\n",
    "print (\"Folder 1 GUID is:    \" + folder1GUID)\n",
    "print (\"Folder 2 GUID is:    \" + folder2GUID)\n",
    "print (\"File GUID is:        \" + fileGUID)\n",
    "\n",
    "print (\" \")\n",
    "\n",
    "body = {\n",
    "\t\"class\" : \"OwnerRequestBody\",\n",
    "\t\"ownerType\" : \"USER_ID\",\n",
    "\t\"ownerId\" : \"faithbroker\"\n",
    "}\n",
    "\n",
    "def addOwner(assetName, assetGUID):\n",
    "    print (\"Setting owner on \" + assetName + \" ...\")\n",
    "    addOwnerURL = assetOwnerURL + \"/assets/\" + assetGUID + \"/owner\"\n",
    "    response=requests.post(addOwnerURL, json=body, headers=jsonHeader)\n",
    "    if response.status_code != 200:\n",
    "        prettyResponse = json.dumps(response.json(), indent=4)\n",
    "        print (\"Response: \")\n",
    "        print (prettyResponse)\n",
    "        print (\" \")\n",
    "    \n",
    "\n",
    "addOwner(\"file\", fileGUID)\n",
    "addOwner(\"folder 2\", folder2GUID)\n",
    "\n",
    "governanceURL = erinsServerPlatformURL + '/servers/' + erinsServer + '/open-metadata/access-services/asset-owner/users/' + erinsUserId \n",
    "\n",
    "def addZones(assetName, assetGUID, zones):\n",
    "    print (\"Setting governance zones on \" + assetName + \" ...\")\n",
    "    addZonesURL = governanceURL + \"/assets/\" + assetGUID + \"/governance-zones\"\n",
    "    response=requests.post(addZonesURL, json=zones, headers=jsonHeader)\n",
    "    if response.status_code != 200:\n",
    "        prettyResponse = json.dumps(response.json(), indent=4)\n",
    "        print (\"Response: \")\n",
    "        print (prettyResponse)\n",
    "        print (\" \")\n",
    "    \n",
    "\n",
    "addZones(\"file\", fileGUID, [\"data-lake\", \"human-resources\"])\n",
    "addZones(\"folder 2\", folder2GUID, [\"data-lake\", \"human-resources\"])\n",
    "addZones(\"folder 1\", folder1GUID, [\"data-lake\"])\n",
    "\n"
   ]
  },
  {
   "cell_type": "markdown",
   "metadata": {},
   "source": [
    "----\n",
    "The code below retrieves the assets."
   ]
  },
  {
   "cell_type": "code",
   "execution_count": null,
   "metadata": {
    "collapsed": true,
    "jupyter": {
     "outputs_hidden": true
    }
   },
   "outputs": [],
   "source": [
    "findAssetsURL = assetOwnerURL + '/assets/by-search-string?startFrom=0&pageSize=50'\n",
    "searchString=\".*hr.*\"\n",
    "\n",
    "print (\" \")\n",
    "print (\"GET \" + findAssetsURL)\n",
    "print (\"{ \" + searchString + \" }\")\n",
    "print (\" \")\n",
    "\n",
    "response=requests.post(findAssetsURL, data=searchString)\n",
    "\n",
    "print (\"Returns:\")\n",
    "prettyResponse = json.dumps(response.json(), indent=4)\n",
    "print (prettyResponse)\n",
    "print (\" \")\n",
    "\n",
    "if response.json().get('assets'):\n",
    "    if len(response.json().get('assets')) == 1:\n",
    "        print (\"1 asset found\")\n",
    "    else:\n",
    "        print (str(len(response.json().get('assets'))) + \" assets found\")\n",
    "else:\n",
    "    print (\"No assets found\")"
   ]
  },
  {
   "cell_type": "markdown",
   "metadata": {},
   "source": [
    "----\n",
    "## Protecting the Employee file using Access Control Lists (ACLs)\n",
    "\n",
    "An Access Control List (ACL) can be used to specify which users can access a file. Each user that permitted to access the file can read the whole file - there is no ability to redact or mask sensitive fields. Where finer grained access is required organizations must create separate copies of the file, with different subsets of content and different access control permissions.\n",
    "\n",
    "**_more to come_**\n"
   ]
  },
  {
   "cell_type": "markdown",
   "metadata": {},
   "source": [
    "----\n",
    "## Protecting the Employee file using consistent metadata definitions\n",
    "\n",
    "Here policies bsaed on the metadata catalog are used to control access. A policy may be based on the characteristics of a specific Asset - such as its attributes, owner, etc - or in a slightly more sophisticated implementation, it may be based on the characteristics of a Glossary Term that is associated with the Asset. \n",
    "\n",
    "Either of these enables finer-grained control of access to a file and enables redaction and/or masking of certain fields. In the simple policy-based access control example, access permission can be based on an individual user's identity, so Callie may be allowed to see more/less than her co-workers.\n",
    "\n",
    "Policy-based access control is typically implemented using an Enforcement Point, such as Apache Ranger or Palisade, that is able to access the metadata to make a decision.\n",
    "\n",
    "**_more to come_**"
   ]
  },
  {
   "cell_type": "markdown",
   "metadata": {},
   "source": [
    "----  \n",
    "## Protecting the Employee file using context with metadata definitions\n",
    "\n",
    "Considering the context of a request in the access control decision provides finer grained control to data access then just using the characteristics of the data itself because it enables Callie's access to be dynamically determined based on the context of her work. As Callie switches between two different projects, her access to various data fields is dynamically modified to suit the current project.\n",
    "\n",
    "**_more to come_**"
   ]
  },
  {
   "cell_type": "markdown",
   "metadata": {},
   "source": [
    "## Conclusions\n",
    "\n",
    "In all the examples in this notebook, the same user (Callie Quartile) is attempting to access the same file (employee records).  This file contains a mixture of fields that we want Callie to be allowed to read, and other fields that she should not be allowed to read. \n",
    "\n",
    "We showed that:\n",
    " * the simple approach using file-based access control can be used to control access to a whole file. If a subset of the file should only be visible, a new file needs to be created containing only that subset and the secured appropriately.  Although simple and widely supported, this appropach can lead to a proliferation of project-specific copies of the same data with potentially different standards of security implemented in each copy. The team needs to keep track of the copies and remove/archive them once each project is complete.\n",
    " \n",
    " * the content based approach uses metadata definitions to ensure all data of the same type is secured consistently.  With the approach, an individual sees the same data, irrespective of which copy they are looking at. This is valuable in a data lake environment where there are many copies of data optimized on different platforms for different processing.  However, for the use case we have been working with above, Callie actually needs project-specific views of the same data.\n",
    "   If a view-based access point is being used, these separate views can be defined.  While this avoids the duplication of data, it does require extra administration to manage the views.\n",
    " \n",
    " * the final approach with Palisade uses the context definition to restrict the access to data.  It is still based on metadata as in the content based approach, but the context identifer provided allows the view of data to be dynamically controlled by policy.  This avoids the technical administration and means that access policies can be changed immediately by the asset owners.  The asset owners are in full control.\n",
    "\n",
    "----"
   ]
  },
  {
   "cell_type": "code",
   "execution_count": null,
   "metadata": {
    "collapsed": true,
    "jupyter": {
     "outputs_hidden": true
    }
   },
   "outputs": [],
   "source": []
  }
 ],
 "metadata": {
  "kernelspec": {
   "display_name": "Python 3",
   "language": "python",
   "name": "python3"
  },
  "language_info": {
   "codemirror_mode": {
    "name": "ipython",
    "version": 3
   },
   "file_extension": ".py",
   "mimetype": "text/x-python",
   "name": "python",
   "nbconvert_exporter": "python",
   "pygments_lexer": "ipython3",
   "version": "3.7.3"
  }
 },
 "nbformat": 4,
 "nbformat_minor": 4
}
