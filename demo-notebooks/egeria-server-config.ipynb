{
 "cells": [
  {
   "cell_type": "markdown",
   "metadata": {},
   "source": [
    "![Egeria Logo](https://raw.githubusercontent.com/odpi/egeria/master/assets/img/ODPi_Egeria_Logo_color.png)\n",
    "\n",
    "### ODPi Egeria Hands-On Lab\n",
    "# Welcome to the Configuring Egeria Servers Lab"
   ]
  },
  {
   "cell_type": "markdown",
   "metadata": {},
   "source": [
    "## Introduction\n",
    "\n",
    "ODPi Egeria is an open source project that provides open standards and implementation libraries to connect tools, catalogs and platforms together so they can share information about data and technology.  This information is called metadata.\n",
    "\n",
    "In this hands-on lab you will learn how to configure the metadata servers used by [Coco Pharmaceuticals](https://opengovernance.odpi.org/coco-pharmaceuticals/)."
   ]
  },
  {
   "cell_type": "markdown",
   "metadata": {},
   "source": [
    "## The scenario\n",
    "\n",
    "<img src=\"https://raw.githubusercontent.com/odpi/data-governance/master/docs/coco-pharmaceuticals/personas/gary-geeke.png\" style=\"float:left\">\n",
    "\n",
    "Coco Pharmaceuticals is going through a major business transformation that requires them to drastically reduce their cycle times, collaborate laterally across the different parts of the business and react quickly to the changing needs of their customers. (See [this link](https://opengovernance.odpi.org/coco-pharmaceuticals/) for the background to this transformation).\n",
    "\n",
    "Part of the changes needed to the IT systems that support the business is the roll out of a distributed metadata and governance capability that is provided by ODPi Egeria.\n",
    "\n",
    "[Gary Geeke](https://opengovernance.odpi.org/coco-pharmaceuticals/personas/gary-geeke.html) is the IT Infrastructure leader at Coco Pharmaceuticals.\n",
    "\n",
    "In this hands-on lab Gary is configuring the metadata servers ready for deployment.  Gary's userId is `garygeeke`."
   ]
  },
  {
   "cell_type": "code",
   "execution_count": null,
   "metadata": {},
   "outputs": [],
   "source": [
    "import requests\n",
    "\n",
    "adminUserId     = \"garygeeke\""
   ]
  },
  {
   "cell_type": "markdown",
   "metadata": {},
   "source": [
    "He needs to define the metadata servers for Coco Pharmaceuticals."
   ]
  },
  {
   "cell_type": "code",
   "execution_count": null,
   "metadata": {},
   "outputs": [],
   "source": [
    "organizationName = \"Coco Pharmaceuticals\"\n",
    "serverType       = \"Open Metadata Server\""
   ]
  },
  {
   "cell_type": "markdown",
   "metadata": {},
   "source": [
    "## Metadata management landscape\n",
    "\n",
    "Gary has decided to deploy a separate metadata server for each part of the organization that owns assets.\n",
    "You can think of a metadata server supporting a community of users.  The metadata repositories are as follows:\n",
    "\n",
    "* cocoMDS1 - Data Lake Operations - used to manage the data in the data lake.\n",
    "* cocoMDS2 - Governance - used by all of the governance teams to operate the governance programs.\n",
    "* cocoMDS3 - Research - used by the research teams who are developing new treatments.\n",
    "* cocoMDS4 - Data Lake Users - used by general business users and the executive team to access data from the data lake.\n",
    "* cocoMDS5 - Business Systems - used to record information about the operational business systems such as procurements, sales, human resources and finance.\n",
    "* cocoMDS6 - Manufacturing - used by the warehouse, manufacturing and distribution teams.\n",
    "* cocoMDSx - Development - used by the development teams building new IT capablity.\n",
    "* cocoEDGE*i* - Manufacturing sensors edge node servers (many of them).\n",
    "\n",
    "These metadata servers will each be configured in later parts of this hands-on lab, but first there are decisons to be made about the platform that the servers will run on and how they will be connected together."
   ]
  },
  {
   "cell_type": "markdown",
   "metadata": {},
   "source": [
    "### Open Metadata and Governance (OMAG) Server Platforms\n",
    "\n",
    "The Coco Pharmaceuticals' metadata servers along with the governance servers that interact with them\n",
    "must be hosted on at least one OMAG Server Platform.\n",
    "\n",
    "Most of the metadata servers are pretty stable and can share an OMAG Server Platform.\n",
    "The data lake however requires a lot of active governance so Gary chooses to put all of the metadata and governance servers for the data lake on to their own platform.  The development team requested that their infrastructure is completely separate from the operational systems,\n",
    "so they are given their own server platform.  Finally each of the edge servers will run an OMAG Server Platform to support\n",
    "their metadata server.\n",
    "\n",
    "Figure 1 shows which metadata servers will sit in each platform.\n",
    "\n",
    "![Figure 1](images/coco-pharmaceuticals-systems-omag-server-platforms.png)\n",
    "> **Figure 1:** Coco Pharmaceuticals' OMAG Server Platforms\n",
    "\n",
    "Below are the host name and port number where the core, data lake and development platforms will run. "
   ]
  },
  {
   "cell_type": "code",
   "execution_count": null,
   "metadata": {},
   "outputs": [],
   "source": [
    "import os\n",
    "\n",
    "corePlatformURL     = os.environ.get('corePlatformURL','http://localhost:8080') \n",
    "dataLakePlatformURL = os.environ.get('dataLakePlatformURL','http://localhost:8081') \n",
    "devPlatformURL      = os.environ.get('devPlatformURL','http://localhost:8082')"
   ]
  },
  {
   "cell_type": "markdown",
   "metadata": {},
   "source": [
    "The sensor edge node servers used to monitor the warehouse operation and manufacturing process each have their own platform and are not yet included in this notebook."
   ]
  },
  {
   "cell_type": "markdown",
   "metadata": {},
   "source": [
    "### Open Metadata Repository Cohorts\n",
    "\n",
    "Metadata servers communicate via open metadata repository cohorts.  A server can become a member of none, one or many cohorts.  Once it has joined a cohort it can exchange metadata with the other members of that cohort.  So the cohorts define scopes of sharing.\n",
    "\n",
    "Gary decides to begin with three open metadata repository cohorts:\n",
    "\n",
    "* **cocoCohort** - The production cohort contains all of the metadata servers that are used to run, coordinate and govern the business.\n",
    "* **devCohort** - The development cohort where the development teams are building and testing new capablity.  Much of their metadata describes the software components under construction and the governance of the software development lifecycle.\n",
    "* **iotCohort** - The IoT cohort used to manage the sensors and robots in the manufacturing systems.  The metadata produced by the sensors and robots is only of interest to the manufactuing and governance team.\n",
    "\n",
    "Figure 2 shows which metadata servers belong to each cohort.\n",
    "\n",
    "![Figure 2](images/coco-pharmaceuticals-systems-metadata-servers.png)\n",
    "> **Figure 2:** Membership of Coco Pharmaceuticals' cohorts\n",
    "\n",
    "Below are the names of the three cohorts."
   ]
  },
  {
   "cell_type": "code",
   "execution_count": null,
   "metadata": {},
   "outputs": [],
   "source": [
    "cocoCohort = \"cocoCohort\"\n",
    "devCohort  = \"devCohort\"\n",
    "iotCohort  = \"iotCohort\""
   ]
  },
  {
   "cell_type": "markdown",
   "metadata": {},
   "source": [
    "At the heart of each cohort is an event topic.  By default, ODPi Egeria uses [Apache Kafka](https://kafka.apache.org/) topics.\n",
    "The metadata servers will need to be configured with the host name and port where Kafka is running.\n",
    "The command below pulls the value from an environment variable called `eventBusURLroot` with a default value of\n",
    "`localhost:9092`.  It is used in all of the server configuration documents to connect it to Kafka."
   ]
  },
  {
   "cell_type": "code",
   "execution_count": null,
   "metadata": {},
   "outputs": [],
   "source": [
    "eventBusURLroot   = os.environ.get('eventBusURLroot', 'localhost:9092')\n",
    "\n",
    "jsonContentHeader = {'content-type':'application/json'}\n",
    "eventBusBody      = {\n",
    "    \"producer\": {\n",
    "        \"bootstrap.servers\": eventBusURLroot\n",
    "    },\n",
    "    \"consumer\":{\n",
    "        \"bootstrap.servers\": eventBusURLroot\n",
    "    }\n",
    "}"
   ]
  },
  {
   "cell_type": "markdown",
   "metadata": {},
   "source": [
    "## Access services\n",
    "\n",
    "[The Open Metadata Access Services (OMAS)](https://egeria.odpi.org/open-metadata-implementation/access-services/) provide domain-specific services for data tools, engines and platforms to integrate with open metadata.\n",
    "\n",
    "The table below shows which access services are needed by each server.\n",
    "\n",
    "\n",
    "| Access Service       | cocoMDS1 | cocoMDS2 | cocoMDS3 | cocoMDS4 | cocoMDS5 | cocoMDS6 | cocoMDSx | cocoEDGE*i* |\n",
    "| :------------------- | :------: | :------: | :------: | :------: | :------: | :------: | :------: | :---------: |\n",
    "| asset-catalog        |   Yes    |   Yes    |   Yes    |   Yes    |   No     |   Yes    |   Yes    |     No      |\n",
    "| asset-consumer       |   Yes    |   Yes    |   Yes    |   Yes    |   No     |   Yes    |   Yes    |     No      |\n",
    "| asset-owner          |   Yes    |   Yes    |   Yes    |   No     |   No     |   Yes    |   Yes    |     No      |\n",
    "| community-profile    |   Yes    |   Yes    |   Yes    |   Yes    |   No     |   Yes    |   Yes    |     No      |\n",
    "| glossary-view        |   Yes    |   Yes    |   Yes    |   Yes    |   No     |   Yes    |   Yes    |     No      |\n",
    "| -------------------  |  ------  |  ------  | ------   |  ------  |  ------  |  ------  |  ------  | ----------  |\n",
    "| data-science         |   No     |   No     |   Yes    |   Yes    |   No     |   Yes    |   Yes    |     No      |\n",
    "| -------------------  |  ------  |  ------  | ------   |  ------  |  ------  |  ------  |  ------  | ----------  |\n",
    "| subject-area         |   No     |   Yes    |   Yes    |   Yes    |   No     |   Yes    |   Yes    |     No      |\n",
    "| -------------------  |  ------  |  ------  | ------   |  ------  |  ------  |  ------  |  ------  | ----------  |\n",
    "| governance-program   |   No     |   Yes    |   No     |   No     |   No     |   No     |   No     |     No      |\n",
    "| data-privacy         |   No     |   Yes    |   No     |   No     |   No     |   No     |   No     |     No      |\n",
    "| security-officer     |   No     |   Yes    |   No     |   No     |   No     |   No     |   No     |     No      |\n",
    "| asset-lineage        |   No     |   Yes    |   No     |   No     |   No     |   No     |   No     |     No      |\n",
    "| -------------------- |  ------  |  ------  |  ------  |  ------  |  ------  |  ------  |  ------  | ----------  |\n",
    "| discovery-engine     |   Yes    |   No     |   Yes    |   No     |   No     |   Yes    |   Yes    |     No      |\n",
    "| stewardship-action   |   Yes    |   No     |   Yes    |   No     |   No     |   No     |   Yes    |     No      |\n",
    "| -------------------- |  ------  |  ------  |  ------  |  ------  |  ------  |  ------  |  ------  | ----------  |\n",
    "| data-engine          |   Yes    |   No     |   No     |   No     |   No     |   Yes    |   No     |     Yes     |\n",
    "| data-platform        |   Yes    |   No     |   No     |   No     |   No     |   Yes    |   No     |     Yes     |\n",
    "| governance-engine    |   Yes    |   No     |   No     |   No     |   No     |   Yes    |   No     |     No      |\n",
    "| information-view     |   Yes    |   No     |   No     |   No     |   No     |   Yes    |   No     |     No      |\n",
    "| -------------------- |  ------  |  ------  |  ------  |  ------  |  ------  |  ------  |  ------  | ----------  |\n",
    "| it-infrastructure    |   No     |   Yes    |   No     |   No     |   No     |   Yes    |   Yes    |     No      |\n",
    "| project-management   |   No     |   Yes    |   Yes    |   No     |   No     |   Yes    |   Yes    |     No      |\n",
    "| -------------------- |  ------  |  ------  |  ------  |  ------  |  ------  |  ------  |  ------  | ----------  |\n",
    "| software-development |   No     |   No     |   No     |   No     |   No     |   No     |   Yes    |     No      |\n",
    "| devops               |   No     |   No     |   No     |   No     |   No     |   No     |   Yes    |     No      |\n",
    "| digital-architecture |   No     |   No     |   No     |   No     |   No     |   No     |   Yes    |     No      |\n",
    "| data-model         |   No     |   No     |   No     |   No     |   No     |   No     |   Yes    |     No      |\n",
    "| ------------------- |  ------  |  ------  |  ------  |  ------  |  ------  |  ------  |  ------  | ----------  |\n",
    "\n"
   ]
  },
  {
   "cell_type": "markdown",
   "metadata": {},
   "source": [
    "## ODPi Egeria Server Configuration Overview\n",
    "\n",
    "Open metadata servers are configured using REST API calls to an OMAG Server Platform.  Each call either defines a default value or configures a service that must run within the server when it is started.\n",
    "\n",
    "As each configuration call is made, the OMAG Server Platform builds up a [configuration document](https://egeria.odpi.org/open-metadata-implementation/admin-services/docs/concepts/configuration-document.html) with the values passed.  When the configuration is finished, the configuration document will have all of the information needed to start the server.\n",
    "\n",
    "The configuration document will then be deployed with the OMAG Server Platform that is to host the server.  When a request is made to this OMAG Server Platform to start the server, it reads the configuration document and initializes the server with the appropriate services.\n",
    "\n",
    "## Configuration Set Up\n",
    "\n",
    "A server can be configured by any OMAG Server Platform - it does not have to be the same platform where the server will run.  For this hands on lab we will use the development team's OMAG Server Platform to create the servers' configuration documents and then deploy them to the platforms where they will run."
   ]
  },
  {
   "cell_type": "code",
   "execution_count": null,
   "metadata": {},
   "outputs": [],
   "source": [
    "adminPlatformURL = devPlatformURL"
   ]
  },
  {
   "cell_type": "markdown",
   "metadata": {},
   "source": [
    "The URLs for the configuration REST APIs have a common structure and begin with the following root:"
   ]
  },
  {
   "cell_type": "code",
   "execution_count": null,
   "metadata": {},
   "outputs": [],
   "source": [
    "adminCommandURLRoot = adminPlatformURL + '/open-metadata/admin-services/users/' + adminUserId + '/servers/'"
   ]
  },
  {
   "cell_type": "markdown",
   "metadata": {},
   "source": [
    "Many of Coco Pharmaceuticals' metadata servers need a local repository to store metadata about the data and processing occuring in the data lake.\n",
    "\n",
    "Egeria includes 2 types of repositories natively. One is an **in-memory repository** that stores metadata in hash maps. It is useful for demos and testing because a restart of the server results in an empty metadata repository. However, if you need metadata to persist from one run of the server to the next, you should use the **local graph repository**.\n",
    "\n",
    "The choice of local repository is made by specifying the local repository mode. The variables below show the two options. The `metadataRepositoryType` identfies which one is going to be used in the configuration."
   ]
  },
  {
   "cell_type": "code",
   "execution_count": null,
   "metadata": {},
   "outputs": [],
   "source": [
    "inMemoryRepositoryOption = \"in-memory-repository\"\n",
    "graphRepositoryOption    = \"local-graph-repository\"\n",
    "\n",
    "metadataRepositoryType   = inMemoryRepositoryOption"
   ]
  },
  {
   "cell_type": "markdown",
   "metadata": {},
   "source": [
    "Egeria supports instance based security.  These checks can be customized through an **Open Metadata Security Verifier**. Coco Pharaceuticals have written their own connector to support the specific rules of their industry.  The Connection definition below tells a server how to load this connector.  It needs to be included in each metadata server's configuration document."
   ]
  },
  {
   "cell_type": "code",
   "execution_count": null,
   "metadata": {},
   "outputs": [],
   "source": [
    "serverSecurityConnectionBody = {\n",
    "    \"class\": \"Connection\",\n",
    "    \"type\": {\n",
    "        \"class\": \"ElementType\",\n",
    "        \"elementTypeId\": \"114e9f8f-5ff3-4c32-bd37-a7eb42712253\",\n",
    "        \"elementTypeName\": \"Connection\",\n",
    "        \"elementTypeVersion\": 1,\n",
    "        \"elementTypeDescription\": \"A set of properties to identify and configure a connector instance.\",\n",
    "        \"elementOrigin\": \"CONFIGURATION\"\n",
    "    },\n",
    "    \"guid\": \"1213abc7-2b13-4c4e-b840-97c4282f7416\",\n",
    "    \"qualifiedName\": \"CocoPharmaceuticalsMetadataServerSecurityConnector\",\n",
    "    \"displayName\": \"Metadata Server Security Connector\",\n",
    "    \"description\": \"Connector to enforce authorization rules for accessing and updating metadata.\",\n",
    "    \"connectorType\": {\n",
    "        \"class\": \"ConnectorType\",\n",
    "        \"type\": {\n",
    "            \"class\": \"ElementType\",\n",
    "            \"elementTypeId\": \"954421eb-33a6-462d-a8ca-b5709a1bd0d4\",\n",
    "            \"elementTypeName\": \"ConnectorType\",\n",
    "            \"elementTypeVersion\": 1,\n",
    "            \"elementTypeDescription\": \"A set of properties describing a type of connector.\",\n",
    "            \"elementOrigin\": \"LOCAL_COHORT\"\n",
    "        },\n",
    "        \"guid\": \"1851f73d-e343-abcd-82cb-3918fed81da6\",\n",
    "        \"qualifiedName\": \"CocoPharmaServerSecurityConnectorType\",\n",
    "        \"displayName\": \"Coco Pharmaceuticals Server Security Connector Implementation\",\n",
    "        \"description\": \"This connector ensures only valid and authorized people can access the metadata.\",\n",
    "        \"connectorProviderClassName\": \"org.odpi.openmetadata.metadatasecurity.samples.CocoPharmaServerSecurityProvider\"\n",
    "    }\n",
    "}"
   ]
  },
  {
   "cell_type": "markdown",
   "metadata": {},
   "source": [
    "Finally, to ensure that a caller can not request too much metadata in a single request, it is possible to set a maximum page size for requests that return a list of items.  The maximum page size puts a limit on the number of items that can be requested.  The variable below defines the value that will be added to the configuration document for each server."
   ]
  },
  {
   "cell_type": "code",
   "execution_count": null,
   "metadata": {},
   "outputs": [],
   "source": [
    "maxPageSize = '100'"
   ]
  },
  {
   "cell_type": "markdown",
   "metadata": {},
   "source": [
    "## Checking that the OMAG Server Platform is running\n",
    "\n",
    "The OMAG Server Platform is a single executable (application) that can be started from the command line or a script or as part of a pre-built container environment such as `docker-compose` or `kubernetes`.\n",
    "\n",
    "If you are running this notebook as part of an Egeria hands on lab then the server platforms you need are already started.  Run the following command to check that the admin platform is running."
   ]
  },
  {
   "cell_type": "code",
   "execution_count": null,
   "metadata": {},
   "outputs": [],
   "source": [
    "import pprint\n",
    "import json\n",
    "\n",
    "def checkServerPlatform(testPlatformName, testPlatformURL):\n",
    "    isPlatformActiveURL = testPlatformURL + \"/open-metadata/platform-services/users/\" + adminUserId + \"/server-platform/origin/\"\n",
    "    print(\"   ...... (GET \" + isPlatformActiveURL + \")\")\n",
    "    response = requests.get(isPlatformActiveURL)\n",
    "    print(\"   ...... Response: \", response.text.strip())\n",
    "    if response.status_code == 200:\n",
    "        print(\"   ...\", testPlatformName, \"at\", testPlatformURL, \"is active - ready to begin\")\n",
    "    else:\n",
    "        print(\"   ...\", testPlatformName, \"at\", testPlatformURL, \"is down - start it before proceeding\")\n",
    "\n",
    "print(\"\\nChecking OMAG Server Platform availability...\")\n",
    "checkServerPlatform(\"Server Platform\", adminPlatformURL)\n",
    "print (\"Done.\")"
   ]
  },
  {
   "cell_type": "markdown",
   "metadata": {},
   "source": [
    "----\n",
    "If the platform is not running, you will see a lot of red text. There are a number of choices on how to start it.  Follow [this link to set up and run the platform](https://egeria.odpi.org/open-metadata-resources/open-metadata-labs/).\n",
    "\n",
    "Once the platform is running you are ready to proceed.\n",
    "\n",
    "What follows are descriptions and coded requests to configure each server.  There are a lot of common steps involved in configuring a metadata server, so we first define some simple functions that can be re-used in later steps for configuring each server."
   ]
  },
  {
   "cell_type": "code",
   "execution_count": null,
   "metadata": {},
   "outputs": [],
   "source": [
    "def postAndPrintResult(url, json=None, headers=None):\n",
    "    print(\"   ...... (POST\", url, \")\")\n",
    "    response = requests.post(url, json=json, headers=headers)\n",
    "    print(\"   ...... Response: \", response.json())\n",
    "\n",
    "def configurePlatformURL(serverName, serverPlatform):\n",
    "    print(\"   ... configuring the platform the server will run on...\")\n",
    "    url = adminCommandURLRoot + serverName + '/server-url-root?url=' + serverPlatform\n",
    "    postAndPrintResult(url)\n",
    "\n",
    "def configureMaxPageSize(serverName, maxPageSize):\n",
    "    print (\"   ... configuring the maximum page size...\")\n",
    "    url = adminCommandURLRoot + serverName + '/max-page-size?limit=' + maxPageSize\n",
    "    postAndPrintResult(url)\n",
    "\n",
    "def configureServerType(serverName, serverType):\n",
    "    print (\"   ... configuring the server's type...\")\n",
    "    url = adminCommandURLRoot + serverName + '/server-type?typeName=' + serverType\n",
    "    postAndPrintResult(url)\n",
    "\n",
    "def configureOwningOrganization(serverName, organizationName):\n",
    "    print (\"   ... configuring the server's owning organization...\")\n",
    "    url = adminCommandURLRoot + serverName + '/organization-name?name=' + organizationName\n",
    "    postAndPrintResult(url)\n",
    "\n",
    "def configureUserId(serverName, userId):\n",
    "    print (\"   ... configuring the server's userId...\")\n",
    "    url = adminCommandURLRoot + serverName + '/server-user-id?id=' + userId\n",
    "    postAndPrintResult(url)\n",
    "\n",
    "def configurePassword(serverName, password):\n",
    "    print (\"   ... configuring the server's password (optional)...\")\n",
    "    url = adminCommandURLRoot + serverName + '/server-user-password?password=' + password\n",
    "    postAndPrintResult(url)\n",
    "\n",
    "def configureSecurityConnection(serverName, securityBody):\n",
    "    print (\"   ... configuring the server's security connection...\")\n",
    "    url = adminCommandURLRoot + serverName + '/security/connection'\n",
    "    postAndPrintResult(url, json=securityBody, headers=jsonContentHeader)\n",
    "\n",
    "def configureMetadataRepository(serverName, repositoryType):\n",
    "    print (\"   ... configuring the metadata repository...\")\n",
    "    url = adminCommandURLRoot + serverName + '/local-repository/mode/' + repositoryType\n",
    "    postAndPrintResult(url)\n",
    "\n",
    "def configureDescriptiveName(serverName, collectionName):\n",
    "    print (\"   ... configuring the short descriptive name of the metadata stored in this server...\")\n",
    "    url = adminCommandURLRoot + serverName + '/local-repository/metadata-collection-name/' + collectionName\n",
    "    postAndPrintResult(url)\n",
    "\n",
    "def configureEventBus(serverName, busBody):\n",
    "    print (\"   ... configuring the event bus for this server...\")\n",
    "    url = adminCommandURLRoot + serverName + '/event-bus'\n",
    "    postAndPrintResult(url, json=busBody, headers=jsonContentHeader)\n",
    "\n",
    "def configureCohortMembership(serverName, cohortName):\n",
    "    print (\"   ... configuring the membership of the cohort...\")\n",
    "    url = adminCommandURLRoot + serverName + '/cohorts/' + cohortName\n",
    "    postAndPrintResult(url)\n",
    "\n",
    "def configureAccessService(serverName, accessService, accessServiceOptions):\n",
    "    print (\"   ... configuring the access services for this server...\")\n",
    "    url = adminCommandURLRoot + serverName + '/access-services/' + accessService\n",
    "    postAndPrintResult(url, json=accessServiceOptions, headers=jsonContentHeader)"
   ]
  },
  {
   "cell_type": "markdown",
   "metadata": {},
   "source": [
    "## Configuring cocoMDS1 - Data Lake Operations metadata server\n",
    "\n",
    "This section configures the `cocoMDS1` server.  The server name is passed on every configuration call to identify which configuration document to update with the new configuration.  The configuration document is created automatically on first use."
   ]
  },
  {
   "cell_type": "code",
   "execution_count": null,
   "metadata": {},
   "outputs": [],
   "source": [
    "mdrServerName          = \"cocoMDS1\"\n",
    "mdrServerUserId        = \"cocoMDS1npa\"\n",
    "mdrServerPassword      = \"cocoMDS1passw0rd\"\n",
    "mdrServerPlatform      = dataLakePlatformURL\n",
    "metadataCollectionName = \"Data Lake Catalog\"\n",
    "\n",
    "print(\"Configuring \" + mdrServerName + \"...\")\n",
    "\n",
    "configurePlatformURL(mdrServerName, mdrServerPlatform)\n",
    "configureMaxPageSize(mdrServerName, maxPageSize)\n",
    "configureServerType(mdrServerName, serverType)\n",
    "configureOwningOrganization(mdrServerName, organizationName)\n",
    "configureUserId(mdrServerName, mdrServerUserId)\n",
    "configurePassword(mdrServerName, mdrServerPassword)\n",
    "configureSecurityConnection(mdrServerName, serverSecurityConnectionBody)\n",
    "configureMetadataRepository(mdrServerName, metadataRepositoryType)\n",
    "configureDescriptiveName(mdrServerName, metadataCollectionName)\n",
    "configureEventBus(mdrServerName, eventBusBody)\n",
    "configureCohortMembership(mdrServerName, cocoCohort)\n",
    "\n",
    "print(\"\\nConfiguring \" + mdrServerName + \" Access Services (OMAS)...\")\n",
    "\n",
    "accessServiceOptions = {\n",
    "    \"SupportedZones\": [\"quarantine\", \"clinical-trials\", \"research\", \"data-lake\", \"trash-can\"]\n",
    "}\n",
    "configureAccessService(mdrServerName, 'asset-catalog', accessServiceOptions)\n",
    "configureAccessService(mdrServerName, 'asset-consumer', accessServiceOptions)\n",
    "\n",
    "accessServiceOptions[\"DefaultZones\"] = [ \"quarantine\" ]\n",
    "configureAccessService(mdrServerName, 'asset-owner', accessServiceOptions)\n",
    "configureAccessService(mdrServerName, 'community-profile', {\"KarmaPointPlateau\":\"500\"})\n",
    "configureAccessService(mdrServerName, 'glossary-view', {})\n",
    "configureAccessService(mdrServerName, 'discovery-engine', accessServiceOptions)\n",
    "configureAccessService(mdrServerName, 'stewardship-action', accessServiceOptions)\n",
    "configureAccessService(mdrServerName, 'data-engine', accessServiceOptions)\n",
    "configureAccessService(mdrServerName, 'data-platform', accessServiceOptions)\n",
    "configureAccessService(mdrServerName, 'governance-engine', accessServiceOptions)\n",
    "configureAccessService(mdrServerName, 'information-view', accessServiceOptions)\n",
    "\n",
    "print(\"\\nDone.\")"
   ]
  },
  {
   "cell_type": "markdown",
   "metadata": {},
   "source": [
    "----\n",
    "\n",
    "## Configuring cocoMDS2 - Governance metadata server\n",
    "\n",
    "This section configures the `cocoMDS2` server.  This server is configured in a similar way to cocoMDS1 except that is has different Open Metadata Access Services (OMASs) enabled and it joins all of the cohorts.\n",
    "\n",
    "The code below covers the basic set up of the server properties, security, event bus and local repository."
   ]
  },
  {
   "cell_type": "code",
   "execution_count": null,
   "metadata": {},
   "outputs": [],
   "source": [
    "mdrServerName          = \"cocoMDS2\"\n",
    "mdrServerUserId        = \"cocoMDS2npa\"\n",
    "mdrServerPassword      = \"cocoMDS2passw0rd\"\n",
    "mdrServerPlatform      = corePlatformURL\n",
    "metadataCollectionName = \"Governance Catalog\"\n",
    "\n",
    "print(\"Configuring \" + mdrServerName + \"...\")\n",
    "\n",
    "configurePlatformURL(mdrServerName, mdrServerPlatform)\n",
    "configureMaxPageSize(mdrServerName, maxPageSize)\n",
    "configureServerType(mdrServerName, serverType)\n",
    "configureOwningOrganization(mdrServerName, organizationName)\n",
    "configureUserId(mdrServerName, mdrServerUserId)\n",
    "configurePassword(mdrServerName, mdrServerPassword)\n",
    "configureSecurityConnection(mdrServerName, serverSecurityConnectionBody)\n",
    "configureMetadataRepository(mdrServerName, metadataRepositoryType)\n",
    "configureDescriptiveName(mdrServerName, metadataCollectionName)\n",
    "configureEventBus(mdrServerName, eventBusBody)\n",
    "# Note: cohort membership is configured for all of the cohorts here\n",
    "configureCohortMembership(mdrServerName, cocoCohort)\n",
    "configureCohortMembership(mdrServerName, devCohort)\n",
    "configureCohortMembership(mdrServerName, iotCohort)\n",
    "\n",
    "print(\"\\nConfiguring \" + mdrServerName + \" Access Services (OMAS)...\")\n",
    "\n",
    "configureAccessService(mdrServerName, 'asset-catalog', {})\n",
    "configureAccessService(mdrServerName, 'asset-consumer', {})\n",
    "configureAccessService(mdrServerName, 'asset-owner', {})\n",
    "configureAccessService(mdrServerName, 'community-profile', {\"KarmaPointPlateau\":\"500\"})\n",
    "configureAccessService(mdrServerName, 'glossary-view', {})\n",
    "configureAccessService(mdrServerName, 'subject-area', {})\n",
    "configureAccessService(mdrServerName, 'governance-program', {})\n",
    "configureAccessService(mdrServerName, 'data-privacy', {})\n",
    "configureAccessService(mdrServerName, 'security-officer', {})\n",
    "configureAccessService(mdrServerName, 'asset-lineage', {})\n",
    "configureAccessService(mdrServerName, 'it-infrastructure', {})\n",
    "configureAccessService(mdrServerName, 'project-management', {})\n",
    "\n",
    "print(\"\\nDone.\")"
   ]
  },
  {
   "cell_type": "markdown",
   "metadata": {},
   "source": [
    "----\n",
    "\n",
    "## Configuring cocoMDS3 - Research\n",
    "\n",
    "Server cocoMDS3 is used by the research teams who are developing new treatments.\n",
    "These teams are working with their own assets as well as assets coming from the data lake.\n",
    "They have their own discovery server to automate analysis of their data.\n",
    "They are also creating new data science models that they run by hand, or deploy to the discovery server."
   ]
  },
  {
   "cell_type": "code",
   "execution_count": null,
   "metadata": {},
   "outputs": [],
   "source": [
    "mdrServerName          = \"cocoMDS3\"\n",
    "mdrServerUserId        = \"cocoMDS3npa\"\n",
    "mdrServerPassword      = \"cocoMDS3passw0rd\"\n",
    "mdrServerPlatform      = corePlatformURL\n",
    "metadataCollectionName = \"Research Catalog\"\n",
    "\n",
    "print(\"Configuring \" + mdrServerName + \"...\")\n",
    "\n",
    "configurePlatformURL(mdrServerName, mdrServerPlatform)\n",
    "configureMaxPageSize(mdrServerName, maxPageSize)\n",
    "configureServerType(mdrServerName, serverType)\n",
    "configureOwningOrganization(mdrServerName, organizationName)\n",
    "configureUserId(mdrServerName, mdrServerUserId)\n",
    "configurePassword(mdrServerName, mdrServerPassword)\n",
    "configureSecurityConnection(mdrServerName, serverSecurityConnectionBody)\n",
    "configureMetadataRepository(mdrServerName, metadataRepositoryType)\n",
    "configureDescriptiveName(mdrServerName, metadataCollectionName)\n",
    "configureEventBus(mdrServerName, eventBusBody)\n",
    "configureCohortMembership(mdrServerName, cocoCohort)\n",
    "\n",
    "print(\"\\nConfiguring \" + mdrServerName + \" Access Services (OMAS)...\")\n",
    "\n",
    "accessServiceOptions = {\n",
    "    \"SupportedZones\": [\"personal-files\", \"clinical-trials\", \"research\", \"data-lake\", \"trash-can\"]\n",
    "}\n",
    "configureAccessService(mdrServerName, 'asset-catalog', accessServiceOptions)\n",
    "configureAccessService(mdrServerName, 'asset-consumer', accessServiceOptions)\n",
    "\n",
    "accessServiceOptions[\"DefaultZones\"] = [ \"personal-files\" ]\n",
    "configureAccessService(mdrServerName, 'asset-owner', accessServiceOptions)\n",
    "configureAccessService(mdrServerName, 'community-profile', {\"KarmaPointPlateau\":\"500\"})\n",
    "configureAccessService(mdrServerName, 'glossary-view', {})\n",
    "configureAccessService(mdrServerName, 'data-science', {})\n",
    "configureAccessService(mdrServerName, 'subject-area', {})\n",
    "configureAccessService(mdrServerName, 'discovery-engine', accessServiceOptions)\n",
    "configureAccessService(mdrServerName, 'stewardship-action', accessServiceOptions)\n",
    "configureAccessService(mdrServerName, 'project-management', accessServiceOptions)\n",
    "\n",
    "print(\"\\nDone.\")"
   ]
  },
  {
   "cell_type": "markdown",
   "metadata": {},
   "source": [
    "## Configuring cocoMDS4 - Data Lake Users\n",
    "\n",
    "Server cocoMDS4 used by general business users and the executive team to access data from the data lake.\n",
    "It does not have a repository of its own.  Instead it issues federated queries to the other repositories in the `cocoCohort`."
   ]
  },
  {
   "cell_type": "code",
   "execution_count": null,
   "metadata": {},
   "outputs": [],
   "source": [
    "mdrServerName          = \"cocoMDS4\"\n",
    "mdrServerUserId        = \"cocoMDS4npa\"\n",
    "mdrServerPassword      = \"cocoMDS4passw0rd\"\n",
    "mdrServerPlatform      = dataLakePlatformURL\n",
    "metadataCollectionName = \"Data Lake Catalog\"\n",
    "\n",
    "print(\"Configuring \" + mdrServerName + \"...\")\n",
    "\n",
    "configurePlatformURL(mdrServerName, mdrServerPlatform)\n",
    "configureMaxPageSize(mdrServerName, maxPageSize)\n",
    "configureServerType(mdrServerName, serverType)\n",
    "configureOwningOrganization(mdrServerName, organizationName)\n",
    "configureUserId(mdrServerName, mdrServerUserId)\n",
    "configurePassword(mdrServerName, mdrServerPassword)\n",
    "configureSecurityConnection(mdrServerName, serverSecurityConnectionBody)\n",
    "# Note: no metadata repository or collection configuration here\n",
    "configureEventBus(mdrServerName, eventBusBody)\n",
    "configureCohortMembership(mdrServerName, cocoCohort)\n",
    "\n",
    "print(\"\\nConfiguring \" + mdrServerName + \" Access Services (OMAS)...\")\n",
    "\n",
    "accessServiceOptions = {\n",
    "    \"SupportedZones\": [ \"data-lake\" ]\n",
    "}\n",
    "configureAccessService(mdrServerName, 'asset-catalog', accessServiceOptions)\n",
    "configureAccessService(mdrServerName, 'asset-consumer', accessServiceOptions)\n",
    "configureAccessService(mdrServerName, 'community-profile', {\"KarmaPointPlateau\":\"500\"})\n",
    "configureAccessService(mdrServerName, 'glossary-view', {})\n",
    "configureAccessService(mdrServerName, 'data-science', accessServiceOptions)\n",
    "configureAccessService(mdrServerName, 'subject-area', {})\n",
    "\n",
    "print(\"\\nDone.\")"
   ]
  },
  {
   "cell_type": "markdown",
   "metadata": {},
   "source": [
    "----\n",
    "\n",
    "## Configuring cocoMDS5 - Business Systems\n",
    "\n",
    "Server cocoMDS5 is a repository proxy to an ETL tool called `iisCore01`.  This ETL tool is well established in Coco Pharmaceuticals and has a built-in metadata repository that contains information about their operational business systems such as procurement, sales, human resources and finance.\n",
    "\n",
    "This ETL tool has its own user interface and services so the OMASs are not enabled."
   ]
  },
  {
   "cell_type": "code",
   "execution_count": null,
   "metadata": {},
   "outputs": [],
   "source": [
    "mdrServerName          = \"cocoMDS5\"\n",
    "mdrServerUserId        = \"cocoMDS5npa\"\n",
    "mdrServerPassword      = \"cocoMDS5passw0rd\"\n",
    "mdrServerPlatform      = corePlatformURL\n",
    "metadataCollectionName = \"Business Systems Catalog\""
   ]
  },
  {
   "cell_type": "markdown",
   "metadata": {},
   "source": [
    "Note: this is a placeholder for cocoMDS5's server's configuration - it will be added later."
   ]
  },
  {
   "cell_type": "markdown",
   "metadata": {},
   "source": [
    "----\n",
    "\n",
    "## Configuring cocoMDS6 - Manufacturing\n",
    "\n",
    "Server cocoMDS6 is the repository server used by the warehouse, manufacturing and distribution teams.  It supports the systems for this part of the organization and acts as a hub for monitoring the IoT environment."
   ]
  },
  {
   "cell_type": "code",
   "execution_count": null,
   "metadata": {},
   "outputs": [],
   "source": [
    "mdrServerName          = \"cocoMDS6\"\n",
    "mdrServerUserId        = \"cocoMDS6npa\"\n",
    "mdrServerPassword      = \"cocoMDS6passw0rd\"\n",
    "mdrServerPlatform      = corePlatformURL\n",
    "metadataCollectionName = \"Manufacturing Catalog\""
   ]
  },
  {
   "cell_type": "markdown",
   "metadata": {},
   "source": [
    "Note: this is a placeholder for cocoMDS6's server's configuration - it will be added later."
   ]
  },
  {
   "cell_type": "markdown",
   "metadata": {},
   "source": [
    "----\n",
    "\n",
    "## Configuring cocoMDSx - Development\n",
    "\n",
    "Server cocoMDSx is used by the development teams building new IT capablity.  It will hold all of the software component assets and servers used for development and devOps.  The development teams have their own OMAG Server Platform and cohort called 'devCohort'."
   ]
  },
  {
   "cell_type": "code",
   "execution_count": null,
   "metadata": {},
   "outputs": [],
   "source": [
    "mdrServerName          = \"cocoMDSx\"\n",
    "mdrServerUserId        = \"cocoMDSxnpa\"\n",
    "mdrServerPassword      = \"cocoMDSxpassw0rd\"\n",
    "mdrServerPlatform      = devPlatformURL\n",
    "metadataCollectionName = \"Development Catalog\""
   ]
  },
  {
   "cell_type": "markdown",
   "metadata": {},
   "source": [
    "Note: this is a placeholder for cocoMDSx's server's configuration - it will be added later."
   ]
  },
  {
   "cell_type": "markdown",
   "metadata": {},
   "source": [
    "----"
   ]
  },
  {
   "cell_type": "markdown",
   "metadata": {},
   "source": [
    "# Deploying server configuration"
   ]
  },
  {
   "cell_type": "markdown",
   "metadata": {},
   "source": [
    "The commands that have been issued so far have created a configuration document for each server.\n",
    "These configuration documents are currently local to the Development OMAG Server Platform where the\n",
    "adminstration commands were issued (figure 3).\n",
    "\n",
    "![Figure 3](images/creating-configuration-documents.png)\n",
    "> **Figure 3:** Creating configuration documents using administration commands\n",
    "\n",
    "If servers are to be started on the other server platforms then their configuration documents\n",
    "need to be deployed (copied) to these platforms (figure 4).\n",
    "\n",
    "![Figure 4](images/deploying-configuration-documents.png)\n",
    "> **Figure 4:** Deploying configuration documents\n",
    "\n",
    "However, before deploying the configuration documents, the receiving OMAG Server Platforms\n",
    "need to be running.\n",
    "\n",
    "The code below checks the Core and Data Lake OMAG Server Platforms are running."
   ]
  },
  {
   "cell_type": "code",
   "execution_count": null,
   "metadata": {},
   "outputs": [],
   "source": [
    "print(\"\\nChecking OMAG Server Platform availability...\")\n",
    "\n",
    "checkServerPlatform(\"Data Lake Platform\", dataLakePlatformURL)\n",
    "checkServerPlatform(\"Core Platform\", corePlatformURL)\n",
    "\n",
    "print (\"\\nDone.\")"
   ]
  },
  {
   "cell_type": "markdown",
   "metadata": {},
   "source": [
    "----\n",
    "Just as before, if you see a lot of red text, either one, or both of the server platforms is not running and you need to start them before continuing.\n",
    "\n",
    "----\n",
    "The commands below deploy the server configuration documents to the server platforms where the\n",
    "servers will run."
   ]
  },
  {
   "cell_type": "code",
   "execution_count": null,
   "metadata": {},
   "outputs": [],
   "source": [
    "def deployServerToPlatform(serverName, platformURL):\n",
    "    print(\"   ... deploying\", serverName, \"to the\", platformURL, \"platform...\")\n",
    "    url = adminCommandURLRoot + serverName + '/configuration/deploy'\n",
    "    platformTarget = {\n",
    "        \"class\": \"URLRequestBody\",\n",
    "        \"urlRoot\": platformURL\n",
    "    }\n",
    "    postAndPrintResult(url, json=platformTarget, headers=jsonContentHeader)\n",
    "\n",
    "print(\"\\nDeploying server configuration documents to appropriate platforms...\")\n",
    "    \n",
    "deployServerToPlatform(\"cocoMDS1\", dataLakePlatformURL)\n",
    "deployServerToPlatform(\"cocoMDS2\", corePlatformURL)\n",
    "deployServerToPlatform(\"cocoMDS3\", corePlatformURL)\n",
    "deployServerToPlatform(\"cocoMDS4\", dataLakePlatformURL)\n",
    "\n",
    "print(\"\\nDone.\")"
   ]
  },
  {
   "cell_type": "markdown",
   "metadata": {},
   "source": [
    "----"
   ]
  },
  {
   "cell_type": "code",
   "execution_count": null,
   "metadata": {},
   "outputs": [],
   "source": []
  }
 ],
 "metadata": {
  "kernelspec": {
   "display_name": "Python 3",
   "language": "python",
   "name": "python3"
  },
  "language_info": {
   "codemirror_mode": {
    "name": "ipython",
    "version": 3
   },
   "file_extension": ".py",
   "mimetype": "text/x-python",
   "name": "python",
   "nbconvert_exporter": "python",
   "pygments_lexer": "ipython3",
   "version": "3.7.4"
  }
 },
 "nbformat": 4,
 "nbformat_minor": 4
}
