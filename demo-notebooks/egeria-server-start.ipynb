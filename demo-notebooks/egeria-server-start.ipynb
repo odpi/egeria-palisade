{
 "cells": [
  {
   "cell_type": "markdown",
   "metadata": {},
   "source": [
    "![Egeria Logo](https://raw.githubusercontent.com/odpi/egeria/master/assets/img/ODPi_Egeria_Logo_color.png)\n",
    "\n",
    "### ODPi Egeria Hands-On Lab\n",
    "# Welcome to Starting the Egeria Servers Lab"
   ]
  },
  {
   "cell_type": "markdown",
   "metadata": {},
   "source": [
    "## Introduction\n",
    "\n",
    "ODPi Egeria is an open source project that provides open standards and implementation libraries to connect tools, catalogs and platforms together so they can share information (called metadata) about data and the technology that supports it.\n",
    "\n",
    "The ODPi Egeria platform services provide APIs for starting and stopping servers on a specific OMAG Server Platform. \n",
    "\n",
    "This hands-on lab explains how this is done."
   ]
  },
  {
   "cell_type": "markdown",
   "metadata": {},
   "source": [
    "## The scenario\n",
    "\n",
    "<img src=\"https://raw.githubusercontent.com/odpi/data-governance/master/docs/coco-pharmaceuticals/personas/gary-geeke.png\" style=\"float:left\">\n",
    "\n",
    "Gary Geeke is the IT Infrastructure leader at Coco Pharmaceuticals.  In the [Configuring Egeria Servers Lab](./egeria-server-config.ipynb) he has set up a number of OMAG Server Platforms and has validated that they are operating correctly.\n",
    "\n",
    "In this hands-on lab Gary is starting up the servers on Coco Pharmaceutical's OMAG Server Platform.  Gary's userId is `garygeeke`."
   ]
  },
  {
   "cell_type": "code",
   "execution_count": null,
   "metadata": {},
   "outputs": [],
   "source": [
    "adminUserId     = \"garygeeke\""
   ]
  },
  {
   "cell_type": "markdown",
   "metadata": {},
   "source": [
    "In the [Configuring Egeria Servers Lab](./egeria-server-config.ipynb), Gary configured servers for the Open Metadata and Governance (OMAG) Server Platforms shown in Figure 1:\n",
    "\n",
    "![Figure 1](images/coco-pharmaceuticals-systems-omag-server-platforms.png)\n",
    "> **Figure 1:** Coco Pharmaceuticals' OMAG Server Platforms\n",
    "\n",
    "Below are the host name and port number for the core, data lake and development platforms. "
   ]
  },
  {
   "cell_type": "code",
   "execution_count": null,
   "metadata": {},
   "outputs": [],
   "source": [
    "import os\n",
    "\n",
    "corePlatformURL     = os.environ.get('corePlatformURL','http://localhost:8080') \n",
    "dataLakePlatformURL = os.environ.get('dataLakePlatformURL','http://localhost:8081') \n",
    "devPlatformURL      = os.environ.get('devPlatformURL','http://localhost:8082')"
   ]
  },
  {
   "cell_type": "markdown",
   "metadata": {},
   "source": [
    "The commands to start the Egeria servers are part of the OMAG Server Platform's Operational Services which is a sub-component of the platform's Administration Services.\n",
    "\n",
    "The REST API calls all begin with the platform URL followed by the following URL fragment"
   ]
  },
  {
   "cell_type": "code",
   "execution_count": null,
   "metadata": {},
   "outputs": [],
   "source": [
    "operationalServicesURLcore = \"/open-metadata/admin-services/users/\" + adminUserId"
   ]
  },
  {
   "cell_type": "markdown",
   "metadata": {},
   "source": [
    "----\n",
    "The next block of code starts all of the servers for the Core, Data Lake and Development OMAG Server Platforms."
   ]
  },
  {
   "cell_type": "code",
   "execution_count": null,
   "metadata": {},
   "outputs": [],
   "source": [
    "import requests\n",
    "import json\n",
    "import textwrap\n",
    "\n",
    "def postAndPrintResult(url):\n",
    "    print(\"   ...... (POST\", url, \")\")\n",
    "    response = requests.post(url)\n",
    "    print(\"   ...... Response:\")\n",
    "    print(textwrap.indent(json.dumps(response.json(), indent=4), '          '))\n",
    "\n",
    "def startServer(serverName, platformURL):\n",
    "    print(\"   ... starting server\", serverName, \"...\")\n",
    "    url = platformURL + operationalServicesURLcore + '/servers/' + serverName + '/instance'\n",
    "    postAndPrintResult(url)\n",
    "\n",
    "print (\"\\nStarting servers for OMAG Server Platform \" + corePlatformURL + \" ...\")\n",
    "\n",
    "startServer(\"cocoMDS2\", corePlatformURL)\n",
    "startServer(\"cocoMDS3\", corePlatformURL)\n",
    "startServer(\"cocoMDS5\", corePlatformURL)\n",
    "startServer(\"cocoMDS6\", corePlatformURL)\n",
    "\n",
    "print (\"\\nStarting servers for OMAG Server Platform \" + dataLakePlatformURL + \" ...\")\n",
    "\n",
    "startServer(\"cocoMDS1\", dataLakePlatformURL)\n",
    "startServer(\"cocoMDS4\", dataLakePlatformURL)\n",
    "\n",
    "print (\"\\nStarting servers for OMAG Server Platform \" + devPlatformURL + \" ...\")\n",
    "\n",
    "startServer(\"cocoMDSx\", devPlatformURL)\n",
    "\n",
    "print (\"\\nDone.\")"
   ]
  },
  {
   "cell_type": "markdown",
   "metadata": {},
   "source": [
    "----"
   ]
  },
  {
   "cell_type": "code",
   "execution_count": null,
   "metadata": {},
   "outputs": [],
   "source": []
  },
  {
   "cell_type": "code",
   "execution_count": null,
   "metadata": {},
   "outputs": [],
   "source": []
  }
 ],
 "metadata": {
  "kernelspec": {
   "display_name": "Python 3",
   "language": "python",
   "name": "python3"
  },
  "language_info": {
   "codemirror_mode": {
    "name": "ipython",
    "version": 3
   },
   "file_extension": ".py",
   "mimetype": "text/x-python",
   "name": "python",
   "nbconvert_exporter": "python",
   "pygments_lexer": "ipython3",
   "version": "3.7.4"
  }
 },
 "nbformat": 4,
 "nbformat_minor": 4
}
